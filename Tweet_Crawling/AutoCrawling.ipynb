{
 "cells": [
  {
   "cell_type": "code",
   "execution_count": null,
   "metadata": {},
   "outputs": [],
   "source": [
    "import pandas as pd"
   ]
  },
  {
   "cell_type": "code",
   "execution_count": null,
   "metadata": {},
   "outputs": [],
   "source": [
    "!pip install tweepy==3.10.0 "
   ]
  },
  {
   "cell_type": "code",
   "execution_count": null,
   "metadata": {},
   "outputs": [],
   "source": [
    "# App 생성을 통해 발급받은 Consumer Key와 Access Token을 넣으면 됩니다.\n",
    "consumer_key = \"consumer_key\"\n",
    "consumer_secret = 'consumer_secret'\n",
    "\n",
    "access_token = 'access_token'\n",
    "access_token_secret = 'access_token_secret'"
   ]
  },
  {
   "cell_type": "code",
   "execution_count": null,
   "metadata": {},
   "outputs": [],
   "source": [
    "import tweepy\n",
    "#핸들러 생성 및 개인정보 인증\n",
    "auth = tweepy.OAuthHandler(consumer_key, consumer_secret)\n",
    "#액세스 요청\n",
    "auth.set_access_token(access_token, access_token_secret)\n",
    "#twitter API를 사용할 수 있는 객체 생성\n",
    "api = tweepy.API(auth)"
   ]
  },
  {
   "cell_type": "code",
   "execution_count": null,
   "metadata": {},
   "outputs": [],
   "source": [
    "public_tweets = api.home_timeline(count=10)\n",
    "for tweet in public_tweets:\n",
    "    print(tweet.text) #트윗 내용만 print"
   ]
  },
  {
   "cell_type": "markdown",
   "metadata": {},
   "source": [
    "### 키워드 검색"
   ]
  },
  {
   "cell_type": "code",
   "execution_count": null,
   "metadata": {},
   "outputs": [],
   "source": [
    "import pandas as pd\n",
    "from collections import defaultdict\n",
    "\n",
    "result = defaultdict(list)\n",
    "query = '빅마우스'\n",
    "tweets = api.search(q=query, count=10)\n",
    "for tweet in tweets:\n",
    "    result['id'].append(tweet.id_str)\n",
    "    result['text'].append(tweet.text)\n",
    "    result['created_at'].append(tweet.created_at)\n",
    "\n",
    "data = pd.DataFrame(result)\n",
    "print(data.shape)\n",
    "data.head()\n"
   ]
  },
  {
   "cell_type": "markdown",
   "metadata": {},
   "source": [
    "### 데이터 스트리밍 검색하기\n",
    "트위터 스트리밍 API : 트위터의 메세지를 실시간으로 다운로드 하는데에 사용\n",
    "\n",
    "대량의 트윗을 얻거나, 라이브 피드를 만드는 데에 유용함.\n"
   ]
  },
  {
   "cell_type": "code",
   "execution_count": null,
   "metadata": {},
   "outputs": [],
   "source": [
    "class MyStreamListener(tweepy.StreamListener):\n",
    "\n",
    "    def on_status(self, status):\n",
    "        print(status.txt)\n",
    "\n",
    "# 2. Stream 객체 생성\n",
    "MyStreamListener = MyStreamListener()\n",
    "myStream = tweepy.Stream(auth = api.auth, listener=MyStreamListener)\n",
    "\n",
    "# 3. 스트림 시작\n",
    "# python 이라는 단어를 포함한 모든 트윗을 스트리밍함\n",
    "# is_async 파라미터를 통해 비동기 스트리밍 가능\n",
    "myStream.filter(track=['python'], is_async=true)"
   ]
  },
  {
   "cell_type": "code",
   "execution_count": null,
   "metadata": {},
   "outputs": [],
   "source": []
  },
  {
   "cell_type": "code",
   "execution_count": null,
   "metadata": {},
   "outputs": [],
   "source": []
  },
  {
   "cell_type": "code",
   "execution_count": null,
   "metadata": {},
   "outputs": [],
   "source": []
  },
  {
   "cell_type": "code",
   "execution_count": null,
   "metadata": {},
   "outputs": [],
   "source": []
  }
 ],
 "metadata": {
  "language_info": {
   "name": "python"
  },
  "orig_nbformat": 4
 },
 "nbformat": 4,
 "nbformat_minor": 2
}
